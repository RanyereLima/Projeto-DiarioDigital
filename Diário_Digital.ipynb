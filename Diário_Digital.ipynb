{
  "nbformat": 4,
  "nbformat_minor": 0,
  "metadata": {
    "colab": {
      "provenance": [],
      "authorship_tag": "ABX9TyO/tVi/eMbprCjDQn4NaMaK",
      "include_colab_link": true
    },
    "kernelspec": {
      "name": "python3",
      "display_name": "Python 3"
    },
    "language_info": {
      "name": "python"
    }
  },
  "cells": [
    {
      "cell_type": "markdown",
      "metadata": {
        "id": "view-in-github",
        "colab_type": "text"
      },
      "source": [
        "<a href=\"https://colab.research.google.com/github/AnndyCM/Projeto-DiarioDigital/blob/main/Di%C3%A1rio_Digital.ipynb\" target=\"_parent\"><img src=\"https://colab.research.google.com/assets/colab-badge.svg\" alt=\"Open In Colab\"/></a>"
      ]
    },
    {
      "cell_type": "code",
      "execution_count": null,
      "metadata": {
        "id": "GjT0yCJUP3tM"
      },
      "outputs": [],
      "source": [
        "import os\n",
        "from datetime import datetime\n",
        "\n",
        "def mostrar_menu():\n",
        "    print(\"\\n--- DIÁRIO ELETRÔNICO ---\")\n",
        "    print(\"1. Escrever no diário\")\n",
        "    print(\"2. Ler todas as entradas\")\n",
        "    print(\"3. Sair\")\n",
        "    return input(\"Escolha uma opção (1-3): \")\n",
        "\n",
        "def escrever_no_diario():\n",
        "    texto = input(\"\\nDigite seu pensamento/anotação: \")\n",
        "    data_hora = datetime.now().strftime(\"[%d/%m/%Y %H:%M:%S] \")\n",
        "\n",
        "    with open(\"diario.txt\", \"a\", encoding=\"utf-8\") as arquivo:\n",
        "        arquivo.write(f\"{data_hora} {texto}\\n\")\n",
        "\n",
        "    print(\"Entrada salva com sucesso!\")\n",
        "\n",
        "def ler_diario():\n",
        "    if not os.path.exists(\"diario.txt\"):\n",
        "        print(\"\\nO diário está vazio. Nenhuma entrada encontrada.\")\n",
        "        return\n",
        "\n",
        "    print(\"\\n--- ENTRADAS DO DIÁRIO ---\")\n",
        "    with open(\"diario.txt\", \"r\", encoding=\"utf-8\") as arquivo:\n",
        "        entradas = arquivo.readlines()\n",
        "\n",
        "        if not entradas:\n",
        "            print(\"O diário está vazio. Nenhuma entrada encontrada.\")\n",
        "        else:\n",
        "            for entrada in entradas:\n",
        "                print(entrada.strip())\n",
        "\n",
        "def main():\n",
        "    print(\"Bem-vindo ao Diário Eletrônico!\")\n",
        "\n",
        "    while True:\n",
        "        opcao = mostrar_menu()\n",
        "\n",
        "        if opcao == \"1\":\n",
        "            escrever_no_diario()\n",
        "        elif opcao == \"2\":\n",
        "            ler_diario()\n",
        "        elif opcao == \"3\":\n",
        "            print(\"\\nObrigado por usar o Diário Eletrônico. Até mais!\")\n",
        "            break\n",
        "        else:\n",
        "            print(\"\\nOpção inválida. Por favor, escolha uma opção entre 1 e 3.\")\n",
        "\n",
        "if __name__ == \"__main__\":\n",
        "    main()"
      ]
    }
  ]
}