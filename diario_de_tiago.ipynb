{
  "nbformat": 4,
  "nbformat_minor": 0,
  "metadata": {
    "colab": {
      "provenance": [],
      "authorship_tag": "ABX9TyPFt2Mcm0vCTm/TczXWLGHi",
      "include_colab_link": true
    },
    "kernelspec": {
      "name": "python3",
      "display_name": "Python 3"
    },
    "language_info": {
      "name": "python"
    }
  },
  "cells": [
    {
      "cell_type": "markdown",
      "metadata": {
        "id": "view-in-github",
        "colab_type": "text"
      },
      "source": [
        "<a href=\"https://colab.research.google.com/github/tiagoaugustorls/Projeto-DiarioDigital/blob/tiago/diario_de_tiago.ipynb\" target=\"_parent\"><img src=\"https://colab.research.google.com/assets/colab-badge.svg\" alt=\"Open In Colab\"/></a>"
      ]
    },
    {
      "cell_type": "code",
      "execution_count": 1,
      "metadata": {
        "colab": {
          "base_uri": "https://localhost:8080/"
        },
        "id": "qVuoz3xgFh59",
        "outputId": "6ad2e2d3-57e9-4a1a-ff4e-9e1060aaef23"
      },
      "outputs": [
        {
          "output_type": "stream",
          "name": "stdout",
          "text": [
            "\n",
            "=== Diário Eletrônico ===\n",
            "1. Escrever no diário\n",
            "2. Ler todas as entradas\n",
            "3. Sair\n",
            "Escolha uma opção (1, 2 ou 3): 2\n",
            "Nenhuma entrada encontrada. O arquivo 'diario.txt' ainda não foi criado.\n",
            "\n",
            "=== Diário Eletrônico ===\n",
            "1. Escrever no diário\n",
            "2. Ler todas as entradas\n",
            "3. Sair\n",
            "Escolha uma opção (1, 2 ou 3): 1\n",
            "Digite sua anotação/pensamento: ola\n",
            "Arquivo 'diario.txt' não encontrado. Ele será criado agora.\n",
            "Anotação registrada com sucesso!\n",
            "\n",
            "=== Diário Eletrônico ===\n",
            "1. Escrever no diário\n",
            "2. Ler todas as entradas\n",
            "3. Sair\n",
            "Escolha uma opção (1, 2 ou 3): 2\n",
            "\n",
            "Entradas no Diário:\n",
            "------------------------------\n",
            "27/03/2025 14:53:47 - ola\n",
            "\n",
            "\n",
            "=== Diário Eletrônico ===\n",
            "1. Escrever no diário\n",
            "2. Ler todas as entradas\n",
            "3. Sair\n",
            "Escolha uma opção (1, 2 ou 3): 3\n",
            "Saindo do Diário Eletrônico. Até logo!\n"
          ]
        }
      ],
      "source": [
        "from datetime import datetime\n",
        "import os\n",
        "\n",
        "def escrever_no_diario():\n",
        "    \"\"\"Função para registrar uma nova entrada no diário.\"\"\"\n",
        "    entrada = input(\"Digite sua anotação/pensamento: \")\n",
        "    data_hora = datetime.now().strftime(\"%d/%m/%Y %H:%M:%S\")\n",
        "\n",
        "    # Verificando se o arquivo já existe antes de tentar abri-lo\n",
        "    if not os.path.exists(\"diario.txt\"):\n",
        "        print(\"Arquivo 'diario.txt' não encontrado. Ele será criado agora.\")\n",
        "\n",
        "    with open(\"diario.txt\", \"a\") as arquivo:\n",
        "        arquivo.write(f\"{data_hora} - {entrada}\\n\")\n",
        "    print(\"Anotação registrada com sucesso!\")\n",
        "\n",
        "def ler_entradas():\n",
        "    \"\"\"Função para exibir todas as entradas no diário.\"\"\"\n",
        "    if os.path.exists(\"diario.txt\"):\n",
        "        with open(\"diario.txt\", \"r\") as arquivo:\n",
        "            print(\"\\nEntradas no Diário:\")\n",
        "            print(\"-\" * 30)\n",
        "            print(arquivo.read())\n",
        "    else:\n",
        "        print(\"Nenhuma entrada encontrada. O arquivo 'diario.txt' ainda não foi criado.\")\n",
        "\n",
        "def menu():\n",
        "    \"\"\"Menu interativo para o usuário.\"\"\"\n",
        "    while True:\n",
        "        print(\"\\n=== Diário Eletrônico ===\")\n",
        "        print(\"1. Escrever no diário\")\n",
        "        print(\"2. Ler todas as entradas\")\n",
        "        print(\"3. Sair\")\n",
        "\n",
        "        opcao = input(\"Escolha uma opção (1, 2 ou 3): \")\n",
        "        if opcao == \"1\":\n",
        "            escrever_no_diario()\n",
        "        elif opcao == \"2\":\n",
        "            ler_entradas()\n",
        "        elif opcao == \"3\":\n",
        "            print(\"Saindo do Diário Eletrônico. Até logo!\")\n",
        "            break\n",
        "        else:\n",
        "            print(\"Opção inválida. Tente novamente.\")\n",
        "\n",
        "# Executar o programa\n",
        "menu()"
      ]
    }
  ]
}