{
  "nbformat": 4,
  "nbformat_minor": 0,
  "metadata": {
    "colab": {
      "provenance": [],
      "authorship_tag": "ABX9TyNuzHz6f+vo+svLcYY5Hmfg",
      "include_colab_link": true
    },
    "kernelspec": {
      "name": "python3",
      "display_name": "Python 3"
    },
    "language_info": {
      "name": "python"
    }
  },
  "cells": [
    {
      "cell_type": "markdown",
      "metadata": {
        "id": "view-in-github",
        "colab_type": "text"
      },
      "source": [
        "<a href=\"https://colab.research.google.com/github/LuisTapia08/Projeto-DiarioDigital/blob/main/diario_py.ipynb\" target=\"_parent\"><img src=\"https://colab.research.google.com/assets/colab-badge.svg\" alt=\"Open In Colab\"/></a>"
      ]
    },
    {
      "cell_type": "code",
      "execution_count": null,
      "metadata": {
        "colab": {
          "base_uri": "https://localhost:8080/"
        },
        "id": "rszuELdmGk1f",
        "outputId": "d5cbd78e-36ad-41dd-9a8e-2c077d233b65"
      },
      "outputs": [
        {
          "output_type": "stream",
          "name": "stdout",
          "text": [
            "\n",
            "=== Diário Pessoal ===\n",
            "1. Escrever no diário\n",
            "2. Exibir anotações\n",
            "3. Sair\n"
          ]
        }
      ],
      "source": [
        "import os\n",
        "from datetime import datetime\n",
        "\n",
        "def exibir_menu():\n",
        "    print(\"\\n=== Diário Pessoal ===\")\n",
        "    print(\"1. Escrever no diário\")\n",
        "    print(\"2. Exibir anotações\")\n",
        "    print(\"3. Sair\")\n",
        "\n",
        "def escrever_no_diario():\n",
        "    texto = input(\"Digite sua anotação: \")\n",
        "    data_hora = datetime.now().strftime(\"[%d/%m/%Y %H:%M:%S]\")\n",
        "\n",
        "    with open(\"diario.txt\", \"a\", encoding=\"utf-8\") as arquivo:\n",
        "        arquivo.write(f\"{data_hora} {texto}\\n\")\n",
        "\n",
        "    print(\"Anotação salva com sucesso!\")\n",
        "\n",
        "def exibir_anotacoes():\n",
        "    if os.path.exists(\"diario.txt\"):\n",
        "        with open(\"diario.txt\", \"r\", encoding=\"utf-8\") as arquivo:\n",
        "            conteudo = arquivo.readlines()\n",
        "            if conteudo:\n",
        "                print(\"\\n=== Anotações Salvas ===\")\n",
        "                for linha in conteudo:\n",
        "                    print(linha.strip())\n",
        "            else:\n",
        "                print(\"\\nNenhuma anotação encontrada.\")\n",
        "    else:\n",
        "        print(\"\\nNenhuma anotação encontrada.\")\n",
        "\n",
        "def main():\n",
        "    while True:\n",
        "        exibir_menu()\n",
        "        opcao = input(\"Escolha uma opção: \")\n",
        "\n",
        "        if opcao == \"1\":\n",
        "            escrever_no_diario()\n",
        "        elif opcao == \"2\":\n",
        "            exibir_anotacoes()\n",
        "        elif opcao == \"3\":\n",
        "            print(\"Saindo... Até mais!\")\n",
        "            break\n",
        "        else:\n",
        "            print(\"Opção inválida! Tente novamente.\")\n",
        "\n",
        "if __name__ == \"__main__\":\n",
        "    main()\n"
      ]
    }
  ]
}